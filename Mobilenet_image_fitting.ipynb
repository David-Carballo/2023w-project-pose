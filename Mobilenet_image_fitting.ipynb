{
  "nbformat": 4,
  "nbformat_minor": 0,
  "metadata": {
    "colab": {
      "provenance": [],
      "include_colab_link": true
    },
    "kernelspec": {
      "name": "python3",
      "display_name": "Python 3"
    },
    "language_info": {
      "name": "python"
    },
    "accelerator": "GPU",
    "gpuClass": "standard"
  },
  "cells": [
    {
      "cell_type": "markdown",
      "metadata": {
        "id": "view-in-github",
        "colab_type": "text"
      },
      "source": [
        "<a href=\"https://colab.research.google.com/github/David-Carballo/2023w-project-pose/blob/main/Mobilenet_image_fitting.ipynb\" target=\"_parent\"><img src=\"https://colab.research.google.com/assets/colab-badge.svg\" alt=\"Open In Colab\"/></a>"
      ]
    },
    {
      "cell_type": "code",
      "execution_count": null,
      "metadata": {
        "id": "N3JI2VOH1FTb"
      },
      "outputs": [],
      "source": [
        "import torch\n",
        "import torch.nn as nn\n",
        "import torch.optim as optim\n",
        "import torch.nn.functional as F\n",
        "import torchvision\n",
        "from torch.utils.data import DataLoader, Dataset\n",
        "from torchvision.datasets.utils import list_files\n",
        "from torchvision.datasets.folder import pil_loader\n",
        "from torchvision.utils import make_grid\n",
        "from pathlib import Path\n",
        "import matplotlib.pyplot as plt\n",
        "import numpy as np\n",
        "import torchvision.transforms as transforms\n",
        "from torchvision.io import read_image\n",
        "from torchvision.io import ImageReadMode\n",
        "from PIL import Image\n",
        "import os\n",
        "\n",
        "device = 'cuda'"
      ]
    },
    {
      "cell_type": "code",
      "source": [
        "class YogaPoses(Dataset):\n",
        "    def __init__(self, root = 'Yoga', transform = None, loader = pil_loader):\n",
        "      self.root = Path(root)\n",
        "      self.filenames = list_files(self.root, suffix = ('.jpeg', '.png', '.jpg'), prefix = False)\n",
        "      self.loader = loader\n",
        "      self.transform = transform\n",
        "      self.resize = transforms.Resize(224)\n",
        "      self.labels = self.get_labels(self.filenames)\n",
        "\n",
        "    def __getitem__(self, index):\n",
        "      filename = self.root / self.filenames[index]\n",
        "      image = self.loader(filename)\n",
        "      to_tensor = transforms.ToTensor()\n",
        "      tensor = to_tensor(image)\n",
        "      tensor = self.image_transforms(tensor)\n",
        "      label = self.labels[index]\n",
        "      return tensor, label\n",
        "\n",
        "    def image_transforms(self, tensor):\n",
        "      #Check if image size ratio is 1:1\n",
        "      if tensor.shape[1] != tensor.shape[2]:\n",
        "        #Calculate difference between X and Y axis\n",
        "        diff = tensor.shape[1] - tensor.shape[2]\n",
        "        if diff > 0: #We check what dimension needs to be padded either the X (dimension 1 of the tensor, right), or the Y (dimension 3, bottom)\n",
        "          tensor = F.pad(input=tensor, pad=(0, abs(diff), 0, 0), mode='constant', value=0) #pad(left, right, top, bottom)\n",
        "        else:\n",
        "          tensor = F.pad(input=tensor, pad=(0, 0, 0, abs(diff)), mode='constant', value=0)\n",
        "      tensor = self.resize(tensor)\n",
        "      tensor = tensor.reshape(3, 224, 224)\n",
        "      return tensor\n",
        "\n",
        "    def get_labels(self, filenames):\n",
        "      labels = []\n",
        "      for filename in filenames:\n",
        "        label = filename.split('_')[0]\n",
        "        if label == 'Italian greyhound':\n",
        "            labels.append(171)\n",
        "        elif label == 'Bison':\n",
        "            labels.append(347)\n",
        "      return labels\n",
        "\n",
        "    def __len__(self):\n",
        "      return len(self.filenames)"
      ],
      "metadata": {
        "id": "YOF9BKLG4v9W"
      },
      "execution_count": null,
      "outputs": []
    },
    {
      "cell_type": "code",
      "source": [
        "dataset = YogaPoses()\n",
        "print('Number of images', len(dataset))\n",
        "print(dataset[2])"
      ],
      "metadata": {
        "colab": {
          "base_uri": "https://localhost:8080/"
        },
        "id": "-rs2m2i-89r0",
        "outputId": "7312d22c-80cc-4195-acb5-20741ec8d31e"
      },
      "execution_count": null,
      "outputs": [
        {
          "output_type": "stream",
          "name": "stdout",
          "text": [
            "Number of images 5\n",
            "(tensor([[[0.8549, 0.8863, 0.9059,  ..., 0.8745, 0.8431, 0.8118],\n",
            "         [0.8588, 0.8902, 0.9176,  ..., 0.8980, 0.8588, 0.8353],\n",
            "         [0.8941, 0.9176, 0.9373,  ..., 0.8824, 0.8431, 0.8078],\n",
            "         ...,\n",
            "         [0.7294, 0.7608, 0.7412,  ..., 0.0588, 0.0627, 0.0627],\n",
            "         [0.7333, 0.7216, 0.7294,  ..., 0.0667, 0.0667, 0.0706],\n",
            "         [0.7255, 0.7451, 0.7137,  ..., 0.0627, 0.0745, 0.0784]],\n",
            "\n",
            "        [[0.9098, 0.9412, 0.9608,  ..., 0.9412, 0.9137, 0.8863],\n",
            "         [0.9137, 0.9451, 0.9765,  ..., 0.9765, 0.9451, 0.9176],\n",
            "         [0.9529, 0.9765, 0.9961,  ..., 0.9686, 0.9333, 0.9098],\n",
            "         ...,\n",
            "         [0.7529, 0.7843, 0.7647,  ..., 0.1176, 0.1098, 0.1098],\n",
            "         [0.7569, 0.7451, 0.7529,  ..., 0.1255, 0.1255, 0.1294],\n",
            "         [0.7490, 0.7686, 0.7373,  ..., 0.1216, 0.1255, 0.1294]],\n",
            "\n",
            "        [[0.9608, 0.9843, 0.9961,  ..., 0.9725, 0.9686, 0.9451],\n",
            "         [0.9569, 0.9804, 1.0000,  ..., 1.0000, 0.9961, 0.9843],\n",
            "         [0.9804, 1.0000, 1.0000,  ..., 1.0000, 0.9882, 0.9608],\n",
            "         ...,\n",
            "         [0.7451, 0.7765, 0.7569,  ..., 0.2078, 0.2039, 0.1961],\n",
            "         [0.7490, 0.7373, 0.7451,  ..., 0.2157, 0.2157, 0.2196],\n",
            "         [0.7412, 0.7608, 0.7294,  ..., 0.1961, 0.2000, 0.2039]]]), 347)\n"
          ]
        }
      ]
    },
    {
      "cell_type": "code",
      "source": [
        "plt.figure(figsize=(8, 10))\n",
        "plt.imshow(dataset[4])\n",
        "plt.xticks([]); plt.yticks([]); plt.grid(False)"
      ],
      "metadata": {
        "colab": {
          "base_uri": "https://localhost:8080/",
          "height": 826
        },
        "id": "YL6--XKAWb5A",
        "outputId": "eb214d6e-b7a8-4136-a46f-1e525653c902"
      },
      "execution_count": null,
      "outputs": [
        {
          "output_type": "error",
          "ename": "TypeError",
          "evalue": "ignored",
          "traceback": [
            "\u001b[0;31m---------------------------------------------------------------------------\u001b[0m",
            "\u001b[0;31mTypeError\u001b[0m                                 Traceback (most recent call last)",
            "\u001b[0;32m<ipython-input-4-09bf5bb14567>\u001b[0m in \u001b[0;36m<module>\u001b[0;34m\u001b[0m\n\u001b[1;32m      1\u001b[0m \u001b[0mplt\u001b[0m\u001b[0;34m.\u001b[0m\u001b[0mfigure\u001b[0m\u001b[0;34m(\u001b[0m\u001b[0mfigsize\u001b[0m\u001b[0;34m=\u001b[0m\u001b[0;34m(\u001b[0m\u001b[0;36m8\u001b[0m\u001b[0;34m,\u001b[0m \u001b[0;36m10\u001b[0m\u001b[0;34m)\u001b[0m\u001b[0;34m)\u001b[0m\u001b[0;34m\u001b[0m\u001b[0;34m\u001b[0m\u001b[0m\n\u001b[0;32m----> 2\u001b[0;31m \u001b[0mplt\u001b[0m\u001b[0;34m.\u001b[0m\u001b[0mimshow\u001b[0m\u001b[0;34m(\u001b[0m\u001b[0mdataset\u001b[0m\u001b[0;34m[\u001b[0m\u001b[0;36m4\u001b[0m\u001b[0;34m]\u001b[0m\u001b[0;34m)\u001b[0m\u001b[0;34m\u001b[0m\u001b[0;34m\u001b[0m\u001b[0m\n\u001b[0m\u001b[1;32m      3\u001b[0m \u001b[0mplt\u001b[0m\u001b[0;34m.\u001b[0m\u001b[0mxticks\u001b[0m\u001b[0;34m(\u001b[0m\u001b[0;34m[\u001b[0m\u001b[0;34m]\u001b[0m\u001b[0;34m)\u001b[0m\u001b[0;34m;\u001b[0m \u001b[0mplt\u001b[0m\u001b[0;34m.\u001b[0m\u001b[0myticks\u001b[0m\u001b[0;34m(\u001b[0m\u001b[0;34m[\u001b[0m\u001b[0;34m]\u001b[0m\u001b[0;34m)\u001b[0m\u001b[0;34m;\u001b[0m \u001b[0mplt\u001b[0m\u001b[0;34m.\u001b[0m\u001b[0mgrid\u001b[0m\u001b[0;34m(\u001b[0m\u001b[0;32mFalse\u001b[0m\u001b[0;34m)\u001b[0m\u001b[0;34m\u001b[0m\u001b[0;34m\u001b[0m\u001b[0m\n",
            "\u001b[0;32m/usr/local/lib/python3.8/dist-packages/matplotlib/_api/deprecation.py\u001b[0m in \u001b[0;36mwrapper\u001b[0;34m(*args, **kwargs)\u001b[0m\n\u001b[1;32m    457\u001b[0m                 \u001b[0;34m\"parameter will become keyword-only %(removal)s.\"\u001b[0m\u001b[0;34m,\u001b[0m\u001b[0;34m\u001b[0m\u001b[0;34m\u001b[0m\u001b[0m\n\u001b[1;32m    458\u001b[0m                 name=name, obj_type=f\"parameter of {func.__name__}()\")\n\u001b[0;32m--> 459\u001b[0;31m         \u001b[0;32mreturn\u001b[0m \u001b[0mfunc\u001b[0m\u001b[0;34m(\u001b[0m\u001b[0;34m*\u001b[0m\u001b[0margs\u001b[0m\u001b[0;34m,\u001b[0m \u001b[0;34m**\u001b[0m\u001b[0mkwargs\u001b[0m\u001b[0;34m)\u001b[0m\u001b[0;34m\u001b[0m\u001b[0;34m\u001b[0m\u001b[0m\n\u001b[0m\u001b[1;32m    460\u001b[0m \u001b[0;34m\u001b[0m\u001b[0m\n\u001b[1;32m    461\u001b[0m     \u001b[0;31m# Don't modify *func*'s signature, as boilerplate.py needs it.\u001b[0m\u001b[0;34m\u001b[0m\u001b[0;34m\u001b[0m\u001b[0;34m\u001b[0m\u001b[0m\n",
            "\u001b[0;32m/usr/local/lib/python3.8/dist-packages/matplotlib/pyplot.py\u001b[0m in \u001b[0;36mimshow\u001b[0;34m(X, cmap, norm, aspect, interpolation, alpha, vmin, vmax, origin, extent, interpolation_stage, filternorm, filterrad, resample, url, data, **kwargs)\u001b[0m\n\u001b[1;32m   2648\u001b[0m         \u001b[0minterpolation_stage\u001b[0m\u001b[0;34m=\u001b[0m\u001b[0;32mNone\u001b[0m\u001b[0;34m,\u001b[0m \u001b[0mfilternorm\u001b[0m\u001b[0;34m=\u001b[0m\u001b[0;32mTrue\u001b[0m\u001b[0;34m,\u001b[0m \u001b[0mfilterrad\u001b[0m\u001b[0;34m=\u001b[0m\u001b[0;36m4.0\u001b[0m\u001b[0;34m,\u001b[0m\u001b[0;34m\u001b[0m\u001b[0;34m\u001b[0m\u001b[0m\n\u001b[1;32m   2649\u001b[0m         resample=None, url=None, data=None, **kwargs):\n\u001b[0;32m-> 2650\u001b[0;31m     __ret = gca().imshow(\n\u001b[0m\u001b[1;32m   2651\u001b[0m         \u001b[0mX\u001b[0m\u001b[0;34m,\u001b[0m \u001b[0mcmap\u001b[0m\u001b[0;34m=\u001b[0m\u001b[0mcmap\u001b[0m\u001b[0;34m,\u001b[0m \u001b[0mnorm\u001b[0m\u001b[0;34m=\u001b[0m\u001b[0mnorm\u001b[0m\u001b[0;34m,\u001b[0m \u001b[0maspect\u001b[0m\u001b[0;34m=\u001b[0m\u001b[0maspect\u001b[0m\u001b[0;34m,\u001b[0m\u001b[0;34m\u001b[0m\u001b[0;34m\u001b[0m\u001b[0m\n\u001b[1;32m   2652\u001b[0m         \u001b[0minterpolation\u001b[0m\u001b[0;34m=\u001b[0m\u001b[0minterpolation\u001b[0m\u001b[0;34m,\u001b[0m \u001b[0malpha\u001b[0m\u001b[0;34m=\u001b[0m\u001b[0malpha\u001b[0m\u001b[0;34m,\u001b[0m \u001b[0mvmin\u001b[0m\u001b[0;34m=\u001b[0m\u001b[0mvmin\u001b[0m\u001b[0;34m,\u001b[0m\u001b[0;34m\u001b[0m\u001b[0;34m\u001b[0m\u001b[0m\n",
            "\u001b[0;32m/usr/local/lib/python3.8/dist-packages/matplotlib/_api/deprecation.py\u001b[0m in \u001b[0;36mwrapper\u001b[0;34m(*args, **kwargs)\u001b[0m\n\u001b[1;32m    457\u001b[0m                 \u001b[0;34m\"parameter will become keyword-only %(removal)s.\"\u001b[0m\u001b[0;34m,\u001b[0m\u001b[0;34m\u001b[0m\u001b[0;34m\u001b[0m\u001b[0m\n\u001b[1;32m    458\u001b[0m                 name=name, obj_type=f\"parameter of {func.__name__}()\")\n\u001b[0;32m--> 459\u001b[0;31m         \u001b[0;32mreturn\u001b[0m \u001b[0mfunc\u001b[0m\u001b[0;34m(\u001b[0m\u001b[0;34m*\u001b[0m\u001b[0margs\u001b[0m\u001b[0;34m,\u001b[0m \u001b[0;34m**\u001b[0m\u001b[0mkwargs\u001b[0m\u001b[0;34m)\u001b[0m\u001b[0;34m\u001b[0m\u001b[0;34m\u001b[0m\u001b[0m\n\u001b[0m\u001b[1;32m    460\u001b[0m \u001b[0;34m\u001b[0m\u001b[0m\n\u001b[1;32m    461\u001b[0m     \u001b[0;31m# Don't modify *func*'s signature, as boilerplate.py needs it.\u001b[0m\u001b[0;34m\u001b[0m\u001b[0;34m\u001b[0m\u001b[0;34m\u001b[0m\u001b[0m\n",
            "\u001b[0;32m/usr/local/lib/python3.8/dist-packages/matplotlib/__init__.py\u001b[0m in \u001b[0;36minner\u001b[0;34m(ax, data, *args, **kwargs)\u001b[0m\n\u001b[1;32m   1412\u001b[0m     \u001b[0;32mdef\u001b[0m \u001b[0minner\u001b[0m\u001b[0;34m(\u001b[0m\u001b[0max\u001b[0m\u001b[0;34m,\u001b[0m \u001b[0;34m*\u001b[0m\u001b[0margs\u001b[0m\u001b[0;34m,\u001b[0m \u001b[0mdata\u001b[0m\u001b[0;34m=\u001b[0m\u001b[0;32mNone\u001b[0m\u001b[0;34m,\u001b[0m \u001b[0;34m**\u001b[0m\u001b[0mkwargs\u001b[0m\u001b[0;34m)\u001b[0m\u001b[0;34m:\u001b[0m\u001b[0;34m\u001b[0m\u001b[0;34m\u001b[0m\u001b[0m\n\u001b[1;32m   1413\u001b[0m         \u001b[0;32mif\u001b[0m \u001b[0mdata\u001b[0m \u001b[0;32mis\u001b[0m \u001b[0;32mNone\u001b[0m\u001b[0;34m:\u001b[0m\u001b[0;34m\u001b[0m\u001b[0;34m\u001b[0m\u001b[0m\n\u001b[0;32m-> 1414\u001b[0;31m             \u001b[0;32mreturn\u001b[0m \u001b[0mfunc\u001b[0m\u001b[0;34m(\u001b[0m\u001b[0max\u001b[0m\u001b[0;34m,\u001b[0m \u001b[0;34m*\u001b[0m\u001b[0mmap\u001b[0m\u001b[0;34m(\u001b[0m\u001b[0msanitize_sequence\u001b[0m\u001b[0;34m,\u001b[0m \u001b[0margs\u001b[0m\u001b[0;34m)\u001b[0m\u001b[0;34m,\u001b[0m \u001b[0;34m**\u001b[0m\u001b[0mkwargs\u001b[0m\u001b[0;34m)\u001b[0m\u001b[0;34m\u001b[0m\u001b[0;34m\u001b[0m\u001b[0m\n\u001b[0m\u001b[1;32m   1415\u001b[0m \u001b[0;34m\u001b[0m\u001b[0m\n\u001b[1;32m   1416\u001b[0m         \u001b[0mbound\u001b[0m \u001b[0;34m=\u001b[0m \u001b[0mnew_sig\u001b[0m\u001b[0;34m.\u001b[0m\u001b[0mbind\u001b[0m\u001b[0;34m(\u001b[0m\u001b[0max\u001b[0m\u001b[0;34m,\u001b[0m \u001b[0;34m*\u001b[0m\u001b[0margs\u001b[0m\u001b[0;34m,\u001b[0m \u001b[0;34m**\u001b[0m\u001b[0mkwargs\u001b[0m\u001b[0;34m)\u001b[0m\u001b[0;34m\u001b[0m\u001b[0;34m\u001b[0m\u001b[0m\n",
            "\u001b[0;32m/usr/local/lib/python3.8/dist-packages/matplotlib/axes/_axes.py\u001b[0m in \u001b[0;36mimshow\u001b[0;34m(self, X, cmap, norm, aspect, interpolation, alpha, vmin, vmax, origin, extent, interpolation_stage, filternorm, filterrad, resample, url, **kwargs)\u001b[0m\n\u001b[1;32m   5485\u001b[0m                               **kwargs)\n\u001b[1;32m   5486\u001b[0m \u001b[0;34m\u001b[0m\u001b[0m\n\u001b[0;32m-> 5487\u001b[0;31m         \u001b[0mim\u001b[0m\u001b[0;34m.\u001b[0m\u001b[0mset_data\u001b[0m\u001b[0;34m(\u001b[0m\u001b[0mX\u001b[0m\u001b[0;34m)\u001b[0m\u001b[0;34m\u001b[0m\u001b[0;34m\u001b[0m\u001b[0m\n\u001b[0m\u001b[1;32m   5488\u001b[0m         \u001b[0mim\u001b[0m\u001b[0;34m.\u001b[0m\u001b[0mset_alpha\u001b[0m\u001b[0;34m(\u001b[0m\u001b[0malpha\u001b[0m\u001b[0;34m)\u001b[0m\u001b[0;34m\u001b[0m\u001b[0;34m\u001b[0m\u001b[0m\n\u001b[1;32m   5489\u001b[0m         \u001b[0;32mif\u001b[0m \u001b[0mim\u001b[0m\u001b[0;34m.\u001b[0m\u001b[0mget_clip_path\u001b[0m\u001b[0;34m(\u001b[0m\u001b[0;34m)\u001b[0m \u001b[0;32mis\u001b[0m \u001b[0;32mNone\u001b[0m\u001b[0;34m:\u001b[0m\u001b[0;34m\u001b[0m\u001b[0;34m\u001b[0m\u001b[0m\n",
            "\u001b[0;32m/usr/local/lib/python3.8/dist-packages/matplotlib/image.py\u001b[0m in \u001b[0;36mset_data\u001b[0;34m(self, A)\u001b[0m\n\u001b[1;32m    713\u001b[0m         if not (self._A.ndim == 2\n\u001b[1;32m    714\u001b[0m                 or self._A.ndim == 3 and self._A.shape[-1] in [3, 4]):\n\u001b[0;32m--> 715\u001b[0;31m             raise TypeError(\"Invalid shape {} for image data\"\n\u001b[0m\u001b[1;32m    716\u001b[0m                             .format(self._A.shape))\n\u001b[1;32m    717\u001b[0m \u001b[0;34m\u001b[0m\u001b[0m\n",
            "\u001b[0;31mTypeError\u001b[0m: Invalid shape (3, 224, 224) for image data"
          ]
        },
        {
          "output_type": "display_data",
          "data": {
            "text/plain": [
              "<Figure size 576x720 with 1 Axes>"
            ],
            "image/png": "[encoded data removed]"
          },
          "metadata": {
            "needs_background": "light"
          }
        }
      ]
    },
    {
      "cell_type": "code",
      "source": [
        "for image, label in dataset:\n",
        "  shape = torchvision.transforms.functional.get_image_size(image)\n",
        "  print (shape)"
      ],
      "metadata": {
        "colab": {
          "base_uri": "https://localhost:8080/"
        },
        "id": "kBT1-Y6B9SxT",
        "outputId": "7d47817e-3890-4dc6-d345-61fd21bd393b"
      },
      "execution_count": null,
      "outputs": [
        {
          "output_type": "stream",
          "name": "stdout",
          "text": [
            "[224, 224]\n",
            "[224, 224]\n",
            "[224, 224]\n",
            "[224, 224]\n",
            "[224, 224]\n"
          ]
        }
      ]
    },
    {
      "cell_type": "code",
      "source": [
        "loader = DataLoader(dataset, batch_size=4, num_workers=4, shuffle=False)\n",
        "\n",
        "print(len(loader))"
      ],
      "metadata": {
        "id": "VzIBf1Nt-eFr",
        "colab": {
          "base_uri": "https://localhost:8080/"
        },
        "outputId": "ca95ac45-96ce-4ef1-a4f3-2d95df8fbf7b"
      },
      "execution_count": null,
      "outputs": [
        {
          "output_type": "stream",
          "name": "stdout",
          "text": [
            "2\n"
          ]
        }
      ]
    },
    {
      "cell_type": "code",
      "source": [
        "model = torchvision.models.mobilenet_v3_small(weights = 'DEFAULT')\n",
        "model.to(device)\n",
        "criterion = nn.CrossEntropyLoss()\n",
        "optimizer = optim.Adam(model.parameters(), lr=0.001)"
      ],
      "metadata": {
        "id": "S4urR3o-_I7S"
      },
      "execution_count": null,
      "outputs": []
    },
    {
      "cell_type": "code",
      "source": [
        "for i, data in enumerate(loader, 0):\n",
        "  inputs, labels = data\n",
        "  inputs, labels = inputs.to(device), labels.to(device)"
      ],
      "metadata": {
        "id": "Lub1kYHkBoM9"
      },
      "execution_count": null,
      "outputs": []
    },
    {
      "cell_type": "code",
      "source": [
        "image = dataset[0]\n",
        "image = image.to(device)\n",
        "\n",
        "with torch.no_grad():\n",
        "    image_features = model(image.unsqueeze(0))\n",
        "    image_features = torch.squeeze(image_features).cpu().numpy()\n",
        "\n",
        "new_shape = (112, 112)  # Change to your desired shape\n",
        "#image_features_resized = F.interpolate(torch.from_numpy(image_features).unsqueeze(0), size=new_shape).squeeze().numpy()\n",
        "\n",
        "\n",
        "print(image_features)"
      ],
      "metadata": {
        "colab": {
          "base_uri": "https://localhost:8080/"
        },
        "id": "F0O_2lX7HFy9",
        "outputId": "726796cf-becf-45cd-a042-e424952ebc94"
      },
      "execution_count": null,
      "outputs": [
        {
          "output_type": "stream",
          "name": "stdout",
          "text": [
            "[4.0404773  4.412816   4.493373   3.850099   3.9267192  2.533846\n",
            " 3.281327   3.563717   3.3210974  2.5425596  2.6575904  3.1062546\n",
            " 3.373972   3.965509   2.7048826  3.181779   4.3900256  3.4514725\n",
            " 3.550149   4.1515784  2.4959922  3.6862714  4.130313   3.2710538\n",
            " 2.898094   2.4761376  1.7960247  2.0409586  2.5529213  4.4148703\n",
            " 2.6781871  2.245975   2.0994804  3.5129356  2.6119003  2.1086454\n",
            " 2.9840055  2.9268646  3.244699   3.006138   2.05739    2.417854\n",
            " 1.8236097  2.6751678  2.7346373  3.6158655  2.8432262  2.5339649\n",
            " 2.1800306  1.7803351  1.7253014  4.5772896  2.582023   3.201216\n",
            " 2.1400964  2.8541257  2.4985979  2.8836727  2.486033   3.3264282\n",
            " 2.129922   3.1021326  2.217208   4.002067   3.314918   2.808739\n",
            " 2.5726802  2.102783   2.231672   1.7704246  1.3435647  3.6618595\n",
            " 3.4566371  1.7464504  1.9311118  2.6633146  3.890945   2.0752127\n",
            " 2.721805   2.2143276  2.1124506  2.2522995  1.6224269  2.5961053\n",
            " 3.647903   3.296995   2.005514   5.710087   3.1628375  4.9296937\n",
            " 3.3312244  2.6700568  2.1894162  4.809657   4.0050344  2.66437\n",
            " 4.90567    4.30293    3.5797672  3.7610922  2.5733929  2.4965124\n",
            " 2.278243   3.6433723  2.782116   5.258465   2.8817217  1.2973917\n",
            " 1.7982152  1.4730637  0.6095353  2.0722134  3.7136886  3.093282\n",
            " 2.620602   1.8490312  1.768948   4.038662   3.8029604  2.5777342\n",
            " 3.4560444  3.0787961  3.5231028  3.0287242  3.4794247  3.3281007\n",
            " 1.8853005  3.3961225  2.9409401  4.380723   2.8841183  3.1901624\n",
            " 3.4905837  2.9899318  2.4454396  2.259848   2.0480783  2.646586\n",
            " 2.8591907  2.8841414  3.1989384  2.3834512  2.1944504  1.5971459\n",
            " 3.5455642  2.8995068  3.2547364  2.7386742  3.9426086  2.8612933\n",
            " 3.6733823  5.636121   3.1692994  4.097653   3.501864   3.7095585\n",
            " 4.1362743  4.2675276  4.6590486  4.2050686  3.6132934  4.9328213\n",
            " 3.91636    3.055549   4.6012683  3.357517   4.6292186  3.022197\n",
            " 4.162317   4.6757927  3.877287   5.605841   4.371164   4.2490606\n",
            " 5.2225294  2.8561287  4.4370704  4.014007   4.1860623  3.9027367\n",
            " 4.129527   4.0827904  4.744302   2.9852867  3.8601465  4.109902\n",
            " 4.1308737  4.115149   3.9912467  4.004156   3.6293607  4.2860227\n",
            " 3.7219708  3.9956305  3.7640214  6.1105647  4.249405   3.367086\n",
            " 3.6518087  4.048337   2.7343476  4.1962385  4.3007255  4.626835\n",
            " 3.7537878  3.5460594  3.047092   4.3601847  3.7547512  4.2723\n",
            " 3.4810858  3.5062351  4.456063   3.588499   3.3947186  4.2940936\n",
            " 3.2308216  4.006409   4.2012486  3.8018513  2.8211474  2.4940445\n",
            " 4.907916   4.7431426  3.560096   5.228989   2.7271152  4.542316\n",
            " 3.3295257  4.3753886  4.866871   4.722174   4.180407   2.5612013\n",
            " 4.7727795  5.009643   4.9328084  5.811799   4.700143   4.960043\n",
            " 4.598087   3.7796094  4.153407   3.5697446  3.6409109  4.625494\n",
            " 3.952773   4.1665998  5.053472   4.2646422  4.761106   5.022452\n",
            " 2.7993188  5.447742   4.879791   3.9193017  3.1112568  5.1404614\n",
            " 3.5820346  3.759481   3.5516171  3.85576    3.4325888  4.2967815\n",
            " 4.588636   3.8097603  4.004634   3.608364   4.003739   3.4212189\n",
            " 3.6038542  3.7115946  3.1208994  3.9056375  2.0484188  3.3060372\n",
            " 3.21596    2.2105513  2.6211867  3.067873   2.6916027  4.790633\n",
            " 3.7686222  2.9952688  4.975525   4.728652   3.6730075  3.306831\n",
            " 2.164875   3.543292   2.7157679  3.050483   3.140019   3.4399989\n",
            " 1.0679884  1.5851982  3.1297927  2.5585008  1.377305   3.5143237\n",
            " 2.4494207  2.058451   2.9976456  2.796498   1.7911178  3.0720935\n",
            " 4.007025   1.6371323  3.0369503  3.0999403  1.7026683  2.411378\n",
            " 2.6048572  2.923861   2.882211   3.5916648  3.6684675  2.2323673\n",
            " 2.6867313  2.9819403  2.9029832  3.0952635  1.7078679  2.9456434\n",
            " 3.5102642  2.8620095  1.1608303  2.08464    1.9158497  1.5554274\n",
            " 3.1708844  2.8259654  3.7054262  4.0785904  1.7821985  2.8118172\n",
            " 2.4850998  1.9915673  2.9516325  5.0106673  3.4064217  2.5782828\n",
            " 1.823792   2.5451283  2.9466276  3.3859694  3.648367   2.4437447\n",
            " 3.758954   3.054571   2.8949785  3.926697   3.344286   3.0269063\n",
            " 3.8488405  4.0161996  2.9898703  1.8571159  3.295635   4.198277\n",
            " 2.331581   4.022998   3.084718   3.082458   2.9891477  3.8293633\n",
            " 2.784008   3.3915348  2.8699074  2.7612557  3.404359   2.7809007\n",
            " 2.8727796  2.349647   3.292305   3.5550869  4.0390987  2.7608418\n",
            " 3.5033407  2.7932     2.7821264  3.3048263  4.3197784  3.827036\n",
            " 2.399077   2.3856437  3.3312654  3.341441   3.6771297  5.008612\n",
            " 3.124959   4.6991296  3.4016862  3.1400812  4.498784   4.482993\n",
            " 3.579286   3.2946208  3.2268708  3.877478   3.1935215  3.9380627\n",
            " 4.6765833  2.051235   2.238073   3.1760044  2.755733   2.6333313\n",
            " 2.3980515  2.5636182  3.743232   4.0103493  4.0026617  4.2638564\n",
            " 3.8390198  2.5473826  3.5492167  3.0742915  3.2812831  3.480441\n",
            " 5.6934958  2.5649507  2.8547108  3.9831166  3.7527587  1.942037\n",
            " 2.1515489  2.8129606  4.781311   3.9774354  3.918023   3.334095\n",
            " 4.467076   3.4698763  3.2522638  3.8534868  3.2577415  1.978229\n",
            " 3.3673325  3.0760453  3.8609223  3.5305474  2.6878843  3.750228\n",
            " 3.7712035  4.414149   2.8928835  4.0033703  4.340007   2.108923\n",
            " 4.3416047  3.1737466  4.587382   2.6071072  3.2009819  2.7581432\n",
            " 3.3549225  4.8196745  1.7939163  3.6856244  1.8387426  3.8073597\n",
            " 3.9366693  4.082358   2.86611    3.817999   3.7062707  3.776997\n",
            " 3.6096056  4.262208   3.2816963  3.6014957  3.5269792  3.6460931\n",
            " 4.1752925  6.040864   4.2889605  4.2483683  3.1549168  3.007723\n",
            " 2.9170792  2.9683893  2.3501122  2.042068   1.7420392  2.7125168\n",
            " 4.942229   4.2644753  2.9444263  3.2876632  3.6104286  4.8796043\n",
            " 3.119577   1.7304592  3.1135724  2.1653411  4.141426   1.9123545\n",
            " 3.9508805  4.177064   1.9582729  3.6177223  3.0964618  3.7531738\n",
            " 4.2590985  3.9548504  1.6059772  2.6449742  3.4511554  2.950384\n",
            " 1.7781031  3.5977833  3.3140683  4.627136   4.32119    4.5969715\n",
            " 3.3569446  2.9862273  3.7555792  2.9007447  3.542001   3.0913038\n",
            " 3.9551857  4.771343   3.8927748  2.6797304  3.50103    3.1686697\n",
            " 3.37635    3.8401415  2.4174888  2.577362   3.1073694  2.1714222\n",
            " 3.4632661  4.0864906  1.743562   3.9754326  2.2686605  3.8320067\n",
            " 1.7774487  4.174185   4.336277   3.2821734  3.5403597  3.055178\n",
            " 4.687744   2.9750962  2.905142   2.6910107  3.7011335  3.3096006\n",
            " 3.2452612  1.7493854  2.1712868  2.8463345  2.5564198  3.1432087\n",
            " 4.892409   3.0865839  4.8204274  3.5560489  2.848889   4.264351\n",
            " 3.18625    2.4354367  3.5387292  3.100181   4.546023   3.838345\n",
            " 4.477899   3.9985945  2.604469   4.116913   4.0327535  4.1530957\n",
            " 3.6639493  3.5342894  4.765856   3.8146925  2.939814   3.539737\n",
            " 2.9730985  3.8941755  2.3219252  4.503432   3.3867815  4.327198\n",
            " 3.0300465  4.038856   3.1813173  3.3303072  3.3100252  4.2686386\n",
            " 4.782074   3.089258   4.510078   5.3253264  3.540324   2.5928018\n",
            " 3.1336417  4.1388144  3.9286358  4.1093388  4.248359   3.0992324\n",
            " 4.1333857  3.0599203  3.8211029  2.53171    4.179901   2.666177\n",
            " 4.303708   2.9093657  4.639689   3.0030508  2.787485   3.4560084\n",
            " 4.112587   2.6501064  3.7958896  3.7997582  3.3872416  3.217215\n",
            " 1.9168255  2.358364   4.2959375  4.1385226  1.5662456  4.0529943\n",
            " 4.094845   3.607572   2.8267524  4.510754   1.8627775  2.3200257\n",
            " 3.7692413  4.250748   3.938502   4.1127443  1.6473289  3.2447271\n",
            " 3.662951   3.5058255  1.996194   2.750556   2.1978605  3.0672152\n",
            " 3.2393723  1.4511681  4.1843824  2.3486094  3.5877414  3.9073877\n",
            " 3.2944686  5.2411304  2.9985454  3.8989549  2.8050478  2.6683815\n",
            " 2.7345803  3.5609972  2.9086084  2.0225074  3.2239854  5.2066917\n",
            " 3.5603564  3.7199228  2.6323137  3.6479187  4.979047   4.2473474\n",
            " 4.078506   3.1195931  3.6966505  3.5751517  4.537499   2.4615767\n",
            " 4.8633533  3.226295   3.8993297  3.5080342  1.6162586  3.7911057\n",
            " 4.131435   3.1264248  2.9098656  1.5019484  2.1777163  3.7900658\n",
            " 4.1737757  4.1704483  2.8680058  3.4888265  3.3250685  4.6818466\n",
            " 4.6385007  4.0372696  1.6069112  3.7675943  3.4663353  3.3890858\n",
            " 3.2287235  4.0862384  4.178685   2.1524403  3.058767   3.309596\n",
            " 2.2738996  4.0340495  3.3289406  4.1159945  2.8186386  2.5489223\n",
            " 3.0613523  4.6696043  3.7354486  3.4019802  2.4578552  3.965414\n",
            " 3.3602576  3.1064136  4.3931174  3.1916327  2.2496698  3.7326589\n",
            " 4.5767903  3.9737375  4.5337377  1.899559   2.7216072  4.368075\n",
            " 3.8420749  2.8149679  3.0238101  3.78356    3.9772282  3.8591435\n",
            " 3.015124   4.7991147  4.527553   2.8989754  2.3202074  3.14262\n",
            " 3.9862103  3.5357318  2.1679811  4.2741117  4.0360856  4.5724726\n",
            " 3.3082201  2.6709528  5.1137047  3.038544   1.7761904  2.7644234\n",
            " 4.2265472  3.409209   5.123192   3.1262188  2.4239347  3.4561799\n",
            " 2.9302127  5.3217587  4.1738524  2.8803444  2.6600919  4.091047\n",
            " 3.3564544  1.768956   3.8747919  1.5544878  3.0761826  4.1242995\n",
            " 3.5987954  4.687011   5.110551   4.207203   2.9597754  2.7451303\n",
            " 2.2763886  2.029915   2.8933218  2.5839486  4.144808   4.5959373\n",
            " 3.1531897  3.9096549  3.8965852  2.398905   3.827603   4.1132145\n",
            " 5.0221124  3.9632478  3.3370275  3.3525555  3.8526866  4.173129\n",
            " 1.2394319  2.247563   2.7080474  5.599288   3.7599597  3.8377104\n",
            " 3.4903398  3.836765   2.825843   2.836048   4.6413865  2.780144\n",
            " 2.0328507  3.079626   3.7385664  3.4797902  2.7178054  2.255262\n",
            " 4.2382913  2.9597685  3.60874    4.179162   3.5523818  2.5128531\n",
            " 4.3464003  3.3222926  4.238793   1.9314095  2.93306    2.8593946\n",
            " 2.9051087  2.8156877  3.1141036  4.059414   1.8268213  2.5467613\n",
            " 3.785846   3.3392348  4.931924   4.6693835  2.9348752  3.104395\n",
            " 4.3103247  3.84542    4.7451406  4.326037   2.8514538  4.3776903\n",
            " 3.1783307  3.3316383  2.3153274  4.087807   3.6490154  4.118779\n",
            " 4.474315   2.0612705  2.5700312  4.235703   3.301028   2.6367023\n",
            " 1.879307   3.6306577  2.8897364  3.3987973  3.8274922  4.113702\n",
            " 3.2100346  3.4115412  3.3041503  3.6358461  2.8965     3.9706187\n",
            " 4.5539846  2.1260915  3.4496405  2.0586665  2.0503802  4.2486362\n",
            " 4.4360247  3.1715333  2.175105   4.6178327  4.3877764  2.3138463\n",
            " 4.0407324  3.079238   1.8052628  3.0026913  3.1510937  3.4999125\n",
            " 1.8920323  4.5811195  4.1907215  3.1689563  3.04855    3.9656117\n",
            " 2.0382628  2.8712535  3.6116576  3.45804    3.8596435  3.9418979\n",
            " 2.2319324  3.2346141  3.6017027  3.5507689  2.8122292  2.549485\n",
            " 3.0738416  4.3233905  1.2814152  4.0824466  4.0484147  1.3232942\n",
            " 2.3960693  2.770236   2.715206   4.49038    2.2644186  4.023373\n",
            " 4.5668836  2.8475225  2.6534755  3.1624277  2.4451158  3.5618553\n",
            " 2.5435088  2.918953   2.8796487  3.5136235  3.8208892  4.4395313\n",
            " 2.376653   2.1708343  2.4613037  3.459382   3.793355   3.3726845\n",
            " 2.8735151  2.9766436  1.6954416  2.6750016  1.9652439  1.5055978\n",
            " 2.4926643  2.4400237  2.4133291  2.2258527  1.4313011  2.2286437\n",
            " 2.1385465  1.4447557  2.470453   1.7121102  2.4000273  3.3519325\n",
            " 3.2103353  2.948858   2.9085958  2.5005646  3.0220761  3.302038\n",
            " 3.798261   2.980139   2.4727383  3.4843774  2.8851058  4.7064013\n",
            " 4.4230986  3.8064837  2.8405867  3.7193842  1.3039447  4.7694807\n",
            " 1.6273469  1.6260666  1.9546354  1.8865757  1.0585178  2.0616097\n",
            " 1.9665639  0.39417452 2.2594616  4.421692   5.6862936  4.563645\n",
            " 1.1311464  2.4841576  1.982758   2.1985972  3.1347275  2.3117437\n",
            " 2.1307871  0.45191285 1.7541649  1.5878823  1.821959   2.0934217\n",
            " 1.5029632  2.20472    2.2310045  4.3726716 ]\n"
          ]
        }
      ]
    },
    {
      "cell_type": "code",
      "source": [
        "features = []\n",
        "n_batches = len(loader)\n",
        "\n",
        "with torch.no_grad():\n",
        "    for i, batch in enumerate(loader):\n",
        "      batch = batch.to(device)\n",
        "\n",
        "      batch_features = model(batch)\n",
        "      batch_features = torch.squeeze(batch_features).cpu().numpy()\n",
        "\n",
        "      features.append(batch_features)\n",
        "\n",
        "\n",
        "print(features[0])\n",
        "\n",
        "\n",
        "#plt.imshow(features[0])\n",
        "#plt.show()\n",
        "\n"
      ],
      "metadata": {
        "id": "PEfgCWYd_uaS",
        "colab": {
          "base_uri": "https://localhost:8080/"
        },
        "outputId": "f142eb88-801a-44ed-dcba-ea0e2d6b3b4a"
      },
      "execution_count": null,
      "outputs": [
        {
          "output_type": "stream",
          "name": "stdout",
          "text": [
            "[[-0.22655696  1.1787976  -1.8354105  ... -1.3852838   1.137629\n",
            "   3.1169293 ]\n",
            " [ 1.6137236   0.9632306  -1.1308563  ...  0.06139129  0.1984809\n",
            "   2.8867288 ]\n",
            " [ 0.00638574 -2.2306373  -0.16500013 ... -1.5055244  -0.1290046\n",
            "   3.0629592 ]\n",
            " [-1.0336748   0.5523132  -1.4829895  ... -1.2955451   3.2649722\n",
            "   1.3845459 ]\n",
            " [-1.8208915  -2.2068217  -0.37908575 ... -1.7579634  -0.8773681\n",
            "  -0.9803128 ]]\n"
          ]
        }
      ]
    },
    {
      "cell_type": "code",
      "source": [
        "def test(model, testloader, device):\n",
        "    model.eval()\n",
        "    correct = 0\n",
        "    total = 0\n",
        "    with torch.no_grad():\n",
        "        for data in testloader:\n",
        "            images, labels = data\n",
        "            images, labels = images.to(device), labels.to(device)\n",
        "            outputs = model(images)\n",
        "            _, predicted = torch.max(outputs.data, 1)\n",
        "            print(predicted)\n",
        "            print(labels)\n",
        "            total += labels.size(0)\n",
        "            correct += (predicted == labels).sum().item()\n",
        "    accuracy = 100 * correct / total\n",
        "    print('Accuracy on the test set: %d %%' % (accuracy))"
      ],
      "metadata": {
        "id": "hbQqMCOGYWyn"
      },
      "execution_count": null,
      "outputs": []
    },
    {
      "cell_type": "code",
      "source": [
        "testloader = DataLoader(dataset, batch_size=1, shuffle=False, num_workers=4)\n",
        "test(model, testloader, device)"
      ],
      "metadata": {
        "colab": {
          "base_uri": "https://localhost:8080/"
        },
        "id": "MfDcb4ptY7DX",
        "outputId": "34f0af47-1af5-4cb0-cbdc-979089fb2639"
      },
      "execution_count": null,
      "outputs": [
        {
          "output_type": "stream",
          "name": "stdout",
          "text": [
            "tensor([171], device='cuda:0')\n",
            "tensor([171], device='cuda:0')\n",
            "tensor([343], device='cuda:0')\n",
            "tensor([347], device='cuda:0')\n",
            "tensor([347], device='cuda:0')\n",
            "tensor([347], device='cuda:0')\n",
            "tensor([171], device='cuda:0')\n",
            "tensor([171], device='cuda:0')\n",
            "tensor([347], device='cuda:0')\n",
            "tensor([347], device='cuda:0')\n",
            "Accuracy on the test set: 80 %\n"
          ]
        }
      ]
    }
  ]
}