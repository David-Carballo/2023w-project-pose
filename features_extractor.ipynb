{
  "nbformat": 4,
  "nbformat_minor": 0,
  "metadata": {
    "colab": {
      "provenance": [],
      "authorship_tag": "ABX9TyNYY44reVYimhHUcprM1YL7",
      "include_colab_link": true
    },
    "kernelspec": {
      "name": "python3",
      "display_name": "Python 3"
    },
    "language_info": {
      "name": "python"
    }
  },
  "cells": [
    {
      "cell_type": "markdown",
      "metadata": {
        "id": "view-in-github",
        "colab_type": "text"
      },
      "source": [
        "<a href=\"https://colab.research.google.com/github/David-Carballo/2023w-project-pose/blob/main/features_extractor.ipynb\" target=\"_parent\"><img src=\"https://colab.research.google.com/assets/colab-badge.svg\" alt=\"Open In Colab\"/></a>"
      ]
    },
    {
      "cell_type": "markdown",
      "source": [
        "#MobileNet v2"
      ],
      "metadata": {
        "id": "G1F5VVaHcFfd"
      }
    },
    {
      "cell_type": "markdown",
      "source": [
        "##0. Load DataSet"
      ],
      "metadata": {
        "id": "xQre3lRGdEK9"
      }
    },
    {
      "cell_type": "code",
      "source": [
        "from google.colab import drive\n",
        "drive.mount('/content/drive')\n",
        "!ls \"/content/drive/My Drive\"\n"
      ],
      "metadata": {
        "id": "YhLNCuCftC5J"
      },
      "execution_count": null,
      "outputs": []
    },
    {
      "cell_type": "code",
      "execution_count": null,
      "metadata": {
        "id": "W14qVuWGX7GO"
      },
      "outputs": [],
      "source": [
        "! mkdir data"
      ]
    },
    {
      "cell_type": "code",
      "source": [
        "#! rm -rf data"
      ],
      "metadata": {
        "id": "rVDWC9Cuu_SV"
      },
      "execution_count": null,
      "outputs": []
    },
    {
      "cell_type": "code",
      "source": [
        "#! unzip 'drive/MyDrive/dataset.zip' -d data/\n",
        "! unzip 'drive/MyDrive/minim_dataset.zip' -d data/"
      ],
      "metadata": {
        "id": "sgoBQKkNYU__"
      },
      "execution_count": null,
      "outputs": []
    },
    {
      "cell_type": "markdown",
      "source": [
        "##1. Model implementation"
      ],
      "metadata": {
        "id": "nxkOwN0gc4wC"
      }
    },
    {
      "cell_type": "code",
      "source": [
        "import torch\n",
        "import os\n",
        "from PIL import Image\n",
        "from torchvision import transforms"
      ],
      "metadata": {
        "id": "ArUeOW7WdQkM"
      },
      "execution_count": null,
      "outputs": []
    },
    {
      "cell_type": "code",
      "source": [
        "model = torch.hub.load('pytorch/vision:v0.10.0', 'mobilenet_v2', pretrained=True)\n",
        "model.eval()"
      ],
      "metadata": {
        "id": "osoWm1i3dR1R"
      },
      "execution_count": null,
      "outputs": []
    },
    {
      "cell_type": "code",
      "source": [
        "# sample execution (requires torchvision)\n",
        "dataset_path = '/content/data/minim_dataset/black'\n",
        "\n",
        "# directorios de carpetas\n",
        "train_dir = os.path.join(dataset_path,'train')\n",
        "val_dir = os.path.join(dataset_path,'validation')\n",
        "test_dir = os.path.join(dataset_path,'test')\n",
        "directories = [train_dir, val_dir, test_dir]\n",
        "\n",
        "for dir in directories:\n",
        "    dir_path = os.path.join(dataset_path, dir)\n",
        "    for classname in os.listdir(dir_path):\n",
        "        class_path = os.path.join(dir_path, classname)\n",
        "        for filename in os.listdir(class_path):\n",
        "            file_path = os.path.join(class_path, filename)\n",
        "            input_image = Image.open(file_path)\n",
        "            preprocess = transforms.Compose([\n",
        "                transforms.Resize(256),\n",
        "                transforms.CenterCrop(224),\n",
        "                transforms.ToTensor(),\n",
        "                transforms.Normalize(mean=[0.485, 0.456, 0.406], std=[0.229, 0.224, 0.225]),\n",
        "            ])\n",
        "            input_tensor = preprocess(input_image)\n",
        "            input_batch = input_tensor.unsqueeze(0) # create a mini-batch as expected by the model\n",
        "\n",
        "            # move the input and model to GPU for speed if available\n",
        "            if torch.cuda.is_available():\n",
        "                input_batch = input_batch.to('cuda')\n",
        "                model.to('cuda')\n",
        "\n",
        "            with torch.no_grad():\n",
        "                output = model(input_batch)\n",
        "            # Tensor of shape 1000, with confidence scores over Imagenet's 1000 classes\n",
        "            print(output[0])\n",
        "            # The output has unnormalized scores. To get probabilities, you can run a softmax on it.\n",
        "            probabilities = torch.nn.functional.softmax(output[0], dim=0)\n",
        "            print(probabilities)"
      ],
      "metadata": {
        "id": "97Ml8KURdhAi"
      },
      "execution_count": null,
      "outputs": []
    },
    {
      "cell_type": "code",
      "source": [
        "# move the input and model to GPU for speed if available\n",
        "if torch.cuda.is_available():\n",
        "    input_batch = input_batch.to('cuda')\n",
        "    model.to('cuda')"
      ],
      "metadata": {
        "id": "aPp3KWC9do83"
      },
      "execution_count": null,
      "outputs": []
    },
    {
      "cell_type": "code",
      "source": [
        "with torch.no_grad():\n",
        "    output = model(input_batch)\n",
        "# Tensor of shape 1000, with confidence scores over Imagenet's 1000 classes\n",
        "print(output[0])\n",
        "# The output has unnormalized scores. To get probabilities, you can run a softmax on it.\n",
        "probabilities = torch.nn.functional.softmax(output[0], dim=0)\n",
        "print(probabilities)"
      ],
      "metadata": {
        "id": "2xO9CBvwdrln"
      },
      "execution_count": null,
      "outputs": []
    }
  ]
}