{
  "nbformat": 4,
  "nbformat_minor": 0,
  "metadata": {
    "colab": {
      "provenance": [],
      "collapsed_sections": [
        "F9afIrPNoVIr"
      ],
      "authorship_tag": "ABX9TyNq25iYQmtIUSWpjSGD+PA4",
      "include_colab_link": true
    },
    "kernelspec": {
      "name": "python3",
      "display_name": "Python 3"
    },
    "language_info": {
      "name": "python"
    }
  },
  "cells": [
    {
      "cell_type": "markdown",
      "metadata": {
        "id": "view-in-github",
        "colab_type": "text"
      },
      "source": [
        "<a href=\"https://colab.research.google.com/github/David-Carballo/2023w-project-pose/blob/main/pose_extractor.ipynb\" target=\"_parent\"><img src=\"https://colab.research.google.com/assets/colab-badge.svg\" alt=\"Open In Colab\"/></a>"
      ]
    },
    {
      "cell_type": "markdown",
      "source": [
        "# 0. Setup Kaggle\n",
        "Load kaggle.json file with your Kaggle API Token in Settings>Account>Create New API Token"
      ],
      "metadata": {
        "id": "F9afIrPNoVIr"
      }
    },
    {
      "cell_type": "markdown",
      "source": [
        "1. Install the Kaggle library"
      ],
      "metadata": {
        "id": "61fSZXZOpUZ5"
      }
    },
    {
      "cell_type": "code",
      "source": [
        "! pip install kaggle"
      ],
      "metadata": {
        "id": "Qlij2_Q7omzt"
      },
      "execution_count": null,
      "outputs": []
    },
    {
      "cell_type": "markdown",
      "source": [
        "2. Make a directory named \".kaggle\""
      ],
      "metadata": {
        "id": "0XkjV631pXVv"
      }
    },
    {
      "cell_type": "code",
      "source": [
        "! mkdir ~/.kaggle"
      ],
      "metadata": {
        "colab": {
          "base_uri": "https://localhost:8080/"
        },
        "id": "8XbKx0vApxrA",
        "outputId": "5bc88ad2-732b-422c-9994-79412b5b7575"
      },
      "execution_count": null,
      "outputs": [
        {
          "output_type": "stream",
          "name": "stdout",
          "text": [
            "mkdir: cannot create directory ‘/root/.kaggle’: File exists\n"
          ]
        }
      ]
    },
    {
      "cell_type": "markdown",
      "source": [
        "3. Copy the “kaggle.json” into this new directory\n",
        "\n",
        "\n"
      ],
      "metadata": {
        "id": "0hu9ZucupmG-"
      }
    },
    {
      "cell_type": "code",
      "source": [
        "! cp kaggle.json ~/.kaggle/"
      ],
      "metadata": {
        "id": "_SXAijKxpwL8"
      },
      "execution_count": null,
      "outputs": []
    },
    {
      "cell_type": "markdown",
      "source": [
        "4. Allocate the required permission for this file."
      ],
      "metadata": {
        "id": "dr4MTMWgpoYC"
      }
    },
    {
      "cell_type": "code",
      "source": [
        "! chmod 600 ~/.kaggle/kaggle.json"
      ],
      "metadata": {
        "id": "P1HTWY2qps0Z"
      },
      "execution_count": null,
      "outputs": []
    },
    {
      "cell_type": "markdown",
      "source": [
        "5. Upload Kaggle Dataset"
      ],
      "metadata": {
        "id": "saCop_D8p6bS"
      }
    },
    {
      "cell_type": "code",
      "execution_count": null,
      "metadata": {
        "colab": {
          "base_uri": "https://localhost:8080/"
        },
        "id": "haW1cyeFl3Wp",
        "outputId": "c879dc70-b987-4af7-982d-d4fee3b49437"
      },
      "outputs": [
        {
          "output_type": "stream",
          "name": "stdout",
          "text": [
            "yoga-posture-dataset.zip: Skipping, found more recently modified local copy (use --force to force download)\n"
          ]
        }
      ],
      "source": [
        "#Load kaggle.json file with your Kaggle API Token in Settings>Account>Create New API Token\n",
        "! kaggle datasets download tr1gg3rtrash/yoga-posture-dataset"
      ]
    },
    {
      "cell_type": "markdown",
      "source": [
        "6. Unzip Yoga Dataset"
      ],
      "metadata": {
        "id": "gy27jGDqqgpM"
      }
    },
    {
      "cell_type": "code",
      "source": [
        "! mkdir data"
      ],
      "metadata": {
        "id": "X8l0exThrc4G"
      },
      "execution_count": null,
      "outputs": []
    },
    {
      "cell_type": "code",
      "source": [
        "! unzip yoga-posture-dataset.zip -d data/"
      ],
      "metadata": {
        "id": "ZANf5y_DqjiH"
      },
      "execution_count": null,
      "outputs": []
    },
    {
      "cell_type": "markdown",
      "source": [
        "#1. Split Dataset\n",
        "First of all, we will download OpenPose Model from Github."
      ],
      "metadata": {
        "id": "jZ2tXHgCrD2q"
      }
    },
    {
      "cell_type": "code",
      "source": [
        "!git clone https://github.com/CMU-Perceptual-Computing-Lab/openpose.git'\n",
        "\n",
        "!apt-get -qq install -y libatlas-base-dev libprotobuf-dev libleveldb-dev libsnappy-dev libhdf5-serial-dev protobuf-compiler libgflags-dev libgoogle-glog-dev liblmdb-dev opencl-headers ocl-icd-opencl-dev libviennacl-dev"
      ],
      "metadata": {
        "id": "FIvtlgRicQIc"
      },
      "execution_count": null,
      "outputs": []
    },
    {
      "cell_type": "code",
      "source": [
        "import sys\n",
        "import os\n",
        "import cv2\n",
        "from openpose.body.estimator import BodyPoseEstimator\n",
        "from openpose.utils import draw_body_connections, draw_keypoints\n",
        "from google.colab.patches import cv2_imshow "
      ],
      "metadata": {
        "id": "k3I-FGqouvz0"
      },
      "execution_count": null,
      "outputs": []
    },
    {
      "cell_type": "code",
      "source": [
        "estimator = BodyPoseEstimator(pretrained=True)\n",
        "\n",
        "dataset_dir = '/content/dataset'\n",
        "i_file = 1\n",
        "\n",
        "# recorre cada clase\n",
        "for yoga_class in os.listdir(dataset_dir):\n",
        "    yoga_class_dir = os.path.join(dataset_dir, yoga_class)\n",
        "    # recorre cada imagen de la clase\n",
        "    for filename in os.listdir(yoga_class_dir):\n",
        "        file_path = os.path.join(yoga_class_dir, filename)\n",
        "        # lee la imagen\n",
        "        print(\"Reading \" + file_path)\n",
        "        img = cv2.imread(file_path)\n",
        "        # dibuja pose con keypoints\n",
        "        keypoints = estimator(img)\n",
        "        # imagen con pose\n",
        "        skeleton = draw_body_connections(img, keypoints, thickness=4, alpha=0.7)\n",
        "        skeleton = draw_keypoints(skeleton, keypoints, radius=5, alpha=0.8)\n",
        "        # black con pose\n",
        "        skeleton_black = draw_body_connections(img*0, keypoints, thickness=4, alpha=0.7)\n",
        "        skeleton_black = draw_keypoints(skeleton_black, keypoints, radius=5, alpha=0.8)\n",
        "        # cv2_imshow(image_dst)\n",
        "        # guarda la imagen modificada\n",
        "        data_path = '/content/data'\n",
        "        class_path = os.path.join(data_path, yoga_class)\n",
        "\n",
        "        imgpose_filename = os.path.splitext(filename)[0] + \"_skeleton.jpg\"\n",
        "        imgpose_path = os.path.join(class_path, imgpose_filename)\n",
        "        blackpose_filename = os.path.splitext(filename)[0] + \"_skeleton_black.jpg\"\n",
        "        blackpose_path = os.path.join(class_path, blackpose_filename)\n",
        "\n",
        "        cv2.imwrite(imgpose_path, skeleton)\n",
        "        cv2.imwrite(blackpose_path, skeleton_black)\n",
        "        print(\"Success saved: \" + str(round(i_file/2792*100,2)) + '%')\n",
        "        i_file += 1"
      ],
      "metadata": {
        "id": "pAPYbaNMJIju"
      },
      "execution_count": null,
      "outputs": []
    }
  ]
}